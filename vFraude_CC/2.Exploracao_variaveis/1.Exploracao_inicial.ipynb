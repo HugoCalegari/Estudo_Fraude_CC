{
 "cells": [
  {
   "cell_type": "markdown",
   "metadata": {},
   "source": [
    "# Objetivos\n",
    "\n",
    "- Entender as relações entre as variáveis explicativas e entre as variáveis explicativas e a resposta."
   ]
  },
  {
   "cell_type": "markdown",
   "metadata": {},
   "source": [
    "# Pacotes e funções"
   ]
  },
  {
   "cell_type": "code",
   "execution_count": 1,
   "metadata": {},
   "outputs": [],
   "source": [
    "import pandas as pd\n",
    "import matplotlib.pyplot as plt\n",
    "import numpy as np"
   ]
  },
  {
   "cell_type": "code",
   "execution_count": 2,
   "metadata": {},
   "outputs": [],
   "source": [
    "%run /home/hugo/Documents/Git_GitHub/Estudo_Fraude_CC/vFraude_CC/99.Funcoes_auxiliares/Funcoes.py"
   ]
  },
  {
   "cell_type": "markdown",
   "metadata": {},
   "source": [
    "# Leitura da base de treino"
   ]
  },
  {
   "cell_type": "code",
   "execution_count": 3,
   "metadata": {},
   "outputs": [
    {
     "data": {
      "text/html": [
       "<div>\n",
       "<style scoped>\n",
       "    .dataframe tbody tr th:only-of-type {\n",
       "        vertical-align: middle;\n",
       "    }\n",
       "\n",
       "    .dataframe tbody tr th {\n",
       "        vertical-align: top;\n",
       "    }\n",
       "\n",
       "    .dataframe thead th {\n",
       "        text-align: right;\n",
       "    }\n",
       "</style>\n",
       "<table border=\"1\" class=\"dataframe\">\n",
       "  <thead>\n",
       "    <tr style=\"text-align: right;\">\n",
       "      <th></th>\n",
       "      <th>distance_from_home</th>\n",
       "      <th>distance_from_last_transaction</th>\n",
       "      <th>ratio_to_median_purchase_price</th>\n",
       "      <th>repeat_retailer</th>\n",
       "      <th>used_chip</th>\n",
       "      <th>used_pin_number</th>\n",
       "      <th>online_order</th>\n",
       "      <th>fraud</th>\n",
       "    </tr>\n",
       "    <tr>\n",
       "      <th>index</th>\n",
       "      <th></th>\n",
       "      <th></th>\n",
       "      <th></th>\n",
       "      <th></th>\n",
       "      <th></th>\n",
       "      <th></th>\n",
       "      <th></th>\n",
       "      <th></th>\n",
       "    </tr>\n",
       "  </thead>\n",
       "  <tbody>\n",
       "    <tr>\n",
       "      <th>353955</th>\n",
       "      <td>5.689623</td>\n",
       "      <td>0.347200</td>\n",
       "      <td>1.105109</td>\n",
       "      <td>1</td>\n",
       "      <td>0</td>\n",
       "      <td>0</td>\n",
       "      <td>1</td>\n",
       "      <td>0</td>\n",
       "    </tr>\n",
       "    <tr>\n",
       "      <th>4582</th>\n",
       "      <td>58.380209</td>\n",
       "      <td>0.124193</td>\n",
       "      <td>0.334676</td>\n",
       "      <td>1</td>\n",
       "      <td>0</td>\n",
       "      <td>0</td>\n",
       "      <td>1</td>\n",
       "      <td>0</td>\n",
       "    </tr>\n",
       "    <tr>\n",
       "      <th>995260</th>\n",
       "      <td>21.729568</td>\n",
       "      <td>2.809812</td>\n",
       "      <td>0.352684</td>\n",
       "      <td>1</td>\n",
       "      <td>0</td>\n",
       "      <td>0</td>\n",
       "      <td>0</td>\n",
       "      <td>0</td>\n",
       "    </tr>\n",
       "    <tr>\n",
       "      <th>713182</th>\n",
       "      <td>49.862629</td>\n",
       "      <td>1.040213</td>\n",
       "      <td>0.943036</td>\n",
       "      <td>1</td>\n",
       "      <td>0</td>\n",
       "      <td>0</td>\n",
       "      <td>1</td>\n",
       "      <td>0</td>\n",
       "    </tr>\n",
       "    <tr>\n",
       "      <th>309053</th>\n",
       "      <td>13.585701</td>\n",
       "      <td>3.446598</td>\n",
       "      <td>1.715601</td>\n",
       "      <td>1</td>\n",
       "      <td>0</td>\n",
       "      <td>0</td>\n",
       "      <td>0</td>\n",
       "      <td>0</td>\n",
       "    </tr>\n",
       "  </tbody>\n",
       "</table>\n",
       "</div>"
      ],
      "text/plain": [
       "        distance_from_home  distance_from_last_transaction  \\\n",
       "index                                                        \n",
       "353955            5.689623                        0.347200   \n",
       "4582             58.380209                        0.124193   \n",
       "995260           21.729568                        2.809812   \n",
       "713182           49.862629                        1.040213   \n",
       "309053           13.585701                        3.446598   \n",
       "\n",
       "        ratio_to_median_purchase_price  repeat_retailer  used_chip  \\\n",
       "index                                                                \n",
       "353955                        1.105109                1          0   \n",
       "4582                          0.334676                1          0   \n",
       "995260                        0.352684                1          0   \n",
       "713182                        0.943036                1          0   \n",
       "309053                        1.715601                1          0   \n",
       "\n",
       "        used_pin_number  online_order  fraud  \n",
       "index                                         \n",
       "353955                0             1      0  \n",
       "4582                  0             1      0  \n",
       "995260                0             0      0  \n",
       "713182                0             1      0  \n",
       "309053                0             0      0  "
      ]
     },
     "execution_count": 3,
     "metadata": {},
     "output_type": "execute_result"
    }
   ],
   "source": [
    "dados = pd.read_parquet('../1.Base_de_dados/treino.parquet')\n",
    "dados.head()"
   ]
  },
  {
   "cell_type": "code",
   "execution_count": 4,
   "metadata": {},
   "outputs": [
    {
     "data": {
      "text/plain": [
       "(783000, 8)"
      ]
     },
     "execution_count": 4,
     "metadata": {},
     "output_type": "execute_result"
    }
   ],
   "source": [
    "# Volumetria dos dados\n",
    "dados.shape"
   ]
  },
  {
   "cell_type": "code",
   "execution_count": 5,
   "metadata": {},
   "outputs": [
    {
     "data": {
      "text/plain": [
       "np.int64(0)"
      ]
     },
     "execution_count": 5,
     "metadata": {},
     "output_type": "execute_result"
    }
   ],
   "source": [
    "# Avalia duplicidade dos dados\n",
    "dados.duplicated().sum().sum()"
   ]
  },
  {
   "cell_type": "code",
   "execution_count": 6,
   "metadata": {},
   "outputs": [
    {
     "name": "stdout",
     "output_type": "stream",
     "text": [
      "<class 'pandas.core.frame.DataFrame'>\n",
      "Index: 783000 entries, 353955 to 748258\n",
      "Data columns (total 8 columns):\n",
      " #   Column                          Non-Null Count   Dtype  \n",
      "---  ------                          --------------   -----  \n",
      " 0   distance_from_home              783000 non-null  float64\n",
      " 1   distance_from_last_transaction  783000 non-null  float64\n",
      " 2   ratio_to_median_purchase_price  783000 non-null  float64\n",
      " 3   repeat_retailer                 783000 non-null  int64  \n",
      " 4   used_chip                       783000 non-null  int64  \n",
      " 5   used_pin_number                 783000 non-null  int64  \n",
      " 6   online_order                    783000 non-null  int64  \n",
      " 7   fraud                           783000 non-null  int64  \n",
      "dtypes: float64(3), int64(5)\n",
      "memory usage: 53.8 MB\n"
     ]
    }
   ],
   "source": [
    "# Avalia tipagem dos dados e informação de nulidade de variáveis\n",
    "dados.info()"
   ]
  },
  {
   "cell_type": "markdown",
   "metadata": {},
   "source": [
    "## Estudo das variáveis categóricas"
   ]
  },
  {
   "cell_type": "markdown",
   "metadata": {},
   "source": [
    "### Univariada"
   ]
  },
  {
   "cell_type": "code",
   "execution_count": 4,
   "metadata": {},
   "outputs": [
    {
     "data": {
      "text/plain": [
       "(   fraud   count\n",
       " 0      0  714563\n",
       " 1      1   68437,\n",
       "    fraud      count\n",
       " 0      0  91.259642\n",
       " 1      1   8.740358)"
      ]
     },
     "execution_count": 4,
     "metadata": {},
     "output_type": "execute_result"
    }
   ],
   "source": [
    "# Somente 8,7% das transações são fraudulentas\n",
    "conta_categorias(df = dados, variavel='fraud')[0], conta_categorias(df = dados, variavel='fraud')[1]"
   ]
  },
  {
   "cell_type": "code",
   "execution_count": 8,
   "metadata": {},
   "outputs": [
    {
     "data": {
      "text/plain": [
       "(   repeat_retailer   count\n",
       " 1                0   93033\n",
       " 0                1  689967,\n",
       "    repeat_retailer      count\n",
       " 1                0  11.881609\n",
       " 0                1  88.118391)"
      ]
     },
     "execution_count": 8,
     "metadata": {},
     "output_type": "execute_result"
    }
   ],
   "source": [
    "# 88% das transações ocorreram em lojas que já haviam sido visitadas anteriormente\n",
    "conta_categorias(df = dados, variavel='repeat_retailer')[0], conta_categorias(df = dados, variavel='repeat_retailer')[1]"
   ]
  },
  {
   "cell_type": "code",
   "execution_count": 9,
   "metadata": {},
   "outputs": [
    {
     "data": {
      "text/plain": [
       "(   used_chip   count\n",
       " 0          0  508693\n",
       " 1          1  274307,\n",
       "    used_chip      count\n",
       " 0          0  64.967178\n",
       " 1          1  35.032822)"
      ]
     },
     "execution_count": 9,
     "metadata": {},
     "output_type": "execute_result"
    }
   ],
   "source": [
    "# 35% das transações ocorreram com o uso do chip do cartão de crédito\n",
    "conta_categorias(df = dados, variavel='used_chip')[0], conta_categorias(df = dados, variavel='used_chip')[1]"
   ]
  },
  {
   "cell_type": "code",
   "execution_count": 10,
   "metadata": {},
   "outputs": [
    {
     "data": {
      "text/plain": [
       "(   used_pin_number   count\n",
       " 0                0  704077\n",
       " 1                1   78923,\n",
       "    used_pin_number      count\n",
       " 0                0  89.920434\n",
       " 1                1  10.079566)"
      ]
     },
     "execution_count": 10,
     "metadata": {},
     "output_type": "execute_result"
    }
   ],
   "source": [
    "# 10% das transações ocorreram com o uso do número do PIN\n",
    "conta_categorias(df = dados, variavel='used_pin_number')[0], conta_categorias(df = dados, variavel='used_pin_number')[1]"
   ]
  },
  {
   "cell_type": "code",
   "execution_count": 11,
   "metadata": {},
   "outputs": [
    {
     "data": {
      "text/plain": [
       "(   online_order   count\n",
       " 1             0  273582\n",
       " 0             1  509418,\n",
       "    online_order     count\n",
       " 1             0  34.94023\n",
       " 0             1  65.05977)"
      ]
     },
     "execution_count": 11,
     "metadata": {},
     "output_type": "execute_result"
    }
   ],
   "source": [
    "# 65% das transações ocorreram em pedidos online\n",
    "conta_categorias(df = dados, variavel='online_order')[0], conta_categorias(df = dados, variavel='online_order')[1]"
   ]
  },
  {
   "cell_type": "markdown",
   "metadata": {},
   "source": [
    "### Bivariada: explicativas e target\n",
    "\n",
    "Busca-se avaliar a distribuição condicional das frequências/probabilidades em relação as variáveis categóricas, compará-las entre os níveis e em relação a distribuição de frequência geral (média da variável target na ausência de outras variáveis)."
   ]
  },
  {
   "cell_type": "markdown",
   "metadata": {},
   "source": [
    "A probabilidade de ser fraude condicionada a compra ser do mesmo comerciante ou loja (ou de não ser do mesmo comerciante ou loja) é muito próxima da probabilidade ou distribuição de frequência da própria variável target. Ou seja, é provável que a variável repeat_retailer não traga tanto insumo no entendimento de uma transação ser ou não fraudulenta."
   ]
  },
  {
   "cell_type": "code",
   "execution_count": 12,
   "metadata": {},
   "outputs": [
    {
     "data": {
      "text/html": [
       "<div>\n",
       "<style scoped>\n",
       "    .dataframe tbody tr th:only-of-type {\n",
       "        vertical-align: middle;\n",
       "    }\n",
       "\n",
       "    .dataframe tbody tr th {\n",
       "        vertical-align: top;\n",
       "    }\n",
       "\n",
       "    .dataframe thead th {\n",
       "        text-align: right;\n",
       "    }\n",
       "</style>\n",
       "<table border=\"1\" class=\"dataframe\">\n",
       "  <thead>\n",
       "    <tr style=\"text-align: right;\">\n",
       "      <th>fraud</th>\n",
       "      <th>0</th>\n",
       "      <th>1</th>\n",
       "    </tr>\n",
       "    <tr>\n",
       "      <th>repeat_retailer</th>\n",
       "      <th></th>\n",
       "      <th></th>\n",
       "    </tr>\n",
       "  </thead>\n",
       "  <tbody>\n",
       "    <tr>\n",
       "      <th>0</th>\n",
       "      <td>0.911612</td>\n",
       "      <td>0.088388</td>\n",
       "    </tr>\n",
       "    <tr>\n",
       "      <th>1</th>\n",
       "      <td>0.912729</td>\n",
       "      <td>0.087271</td>\n",
       "    </tr>\n",
       "    <tr>\n",
       "      <th>All</th>\n",
       "      <td>0.912596</td>\n",
       "      <td>0.087404</td>\n",
       "    </tr>\n",
       "  </tbody>\n",
       "</table>\n",
       "</div>"
      ],
      "text/plain": [
       "fraud                   0         1\n",
       "repeat_retailer                    \n",
       "0                0.911612  0.088388\n",
       "1                0.912729  0.087271\n",
       "All              0.912596  0.087404"
      ]
     },
     "execution_count": 12,
     "metadata": {},
     "output_type": "execute_result"
    }
   ],
   "source": [
    "pd.crosstab(dados['repeat_retailer'], dados['fraud'], normalize='index', margins=True)"
   ]
  },
  {
   "cell_type": "code",
   "execution_count": 13,
   "metadata": {},
   "outputs": [
    {
     "data": {
      "text/html": [
       "<div>\n",
       "<style scoped>\n",
       "    .dataframe tbody tr th:only-of-type {\n",
       "        vertical-align: middle;\n",
       "    }\n",
       "\n",
       "    .dataframe tbody tr th {\n",
       "        vertical-align: top;\n",
       "    }\n",
       "\n",
       "    .dataframe thead th {\n",
       "        text-align: right;\n",
       "    }\n",
       "</style>\n",
       "<table border=\"1\" class=\"dataframe\">\n",
       "  <thead>\n",
       "    <tr style=\"text-align: right;\">\n",
       "      <th>fraud</th>\n",
       "      <th>0</th>\n",
       "      <th>1</th>\n",
       "      <th>All</th>\n",
       "    </tr>\n",
       "    <tr>\n",
       "      <th>repeat_retailer</th>\n",
       "      <th></th>\n",
       "      <th></th>\n",
       "      <th></th>\n",
       "    </tr>\n",
       "  </thead>\n",
       "  <tbody>\n",
       "    <tr>\n",
       "      <th>0</th>\n",
       "      <td>84810</td>\n",
       "      <td>8223</td>\n",
       "      <td>93033</td>\n",
       "    </tr>\n",
       "    <tr>\n",
       "      <th>1</th>\n",
       "      <td>629753</td>\n",
       "      <td>60214</td>\n",
       "      <td>689967</td>\n",
       "    </tr>\n",
       "    <tr>\n",
       "      <th>All</th>\n",
       "      <td>714563</td>\n",
       "      <td>68437</td>\n",
       "      <td>783000</td>\n",
       "    </tr>\n",
       "  </tbody>\n",
       "</table>\n",
       "</div>"
      ],
      "text/plain": [
       "fraud                 0      1     All\n",
       "repeat_retailer                       \n",
       "0                 84810   8223   93033\n",
       "1                629753  60214  689967\n",
       "All              714563  68437  783000"
      ]
     },
     "execution_count": 13,
     "metadata": {},
     "output_type": "execute_result"
    }
   ],
   "source": [
    "pd.crosstab(dados['repeat_retailer'], dados['fraud'], normalize=False, margins=True)"
   ]
  },
  {
   "cell_type": "markdown",
   "metadata": {},
   "source": [
    "Diferente da variável anterior, consegue-se notar diferenças na distribuição condicionada das probabilidades da transação ser fraudulenta ou não. Agora, o uso do número PIN se mostra bem vantajoso (desconsiderando outras variáveis) quando se compara sem o uso do PIN e desconsiderando qualquer variável, ou seja, somente a distribuição de frequência da variável target.\n",
    "\n",
    "É importante salientar que para esta variável, não só a distribuição percentual é baixa, como também a representatividade absoluta é bem baixa para as transações que são fraudulentas e que também usaram o número PIN. Veja a segunda tabela abaixo."
   ]
  },
  {
   "cell_type": "code",
   "execution_count": 14,
   "metadata": {},
   "outputs": [
    {
     "data": {
      "text/html": [
       "<div>\n",
       "<style scoped>\n",
       "    .dataframe tbody tr th:only-of-type {\n",
       "        vertical-align: middle;\n",
       "    }\n",
       "\n",
       "    .dataframe tbody tr th {\n",
       "        vertical-align: top;\n",
       "    }\n",
       "\n",
       "    .dataframe thead th {\n",
       "        text-align: right;\n",
       "    }\n",
       "</style>\n",
       "<table border=\"1\" class=\"dataframe\">\n",
       "  <thead>\n",
       "    <tr style=\"text-align: right;\">\n",
       "      <th>fraud</th>\n",
       "      <th>0</th>\n",
       "      <th>1</th>\n",
       "    </tr>\n",
       "    <tr>\n",
       "      <th>used_pin_number</th>\n",
       "      <th></th>\n",
       "      <th></th>\n",
       "    </tr>\n",
       "  </thead>\n",
       "  <tbody>\n",
       "    <tr>\n",
       "      <th>0</th>\n",
       "      <td>0.903094</td>\n",
       "      <td>0.096906</td>\n",
       "    </tr>\n",
       "    <tr>\n",
       "      <th>1</th>\n",
       "      <td>0.997365</td>\n",
       "      <td>0.002635</td>\n",
       "    </tr>\n",
       "    <tr>\n",
       "      <th>All</th>\n",
       "      <td>0.912596</td>\n",
       "      <td>0.087404</td>\n",
       "    </tr>\n",
       "  </tbody>\n",
       "</table>\n",
       "</div>"
      ],
      "text/plain": [
       "fraud                   0         1\n",
       "used_pin_number                    \n",
       "0                0.903094  0.096906\n",
       "1                0.997365  0.002635\n",
       "All              0.912596  0.087404"
      ]
     },
     "execution_count": 14,
     "metadata": {},
     "output_type": "execute_result"
    }
   ],
   "source": [
    "pd.crosstab(dados['used_pin_number'], dados['fraud'], normalize='index', margins=True)"
   ]
  },
  {
   "cell_type": "code",
   "execution_count": 15,
   "metadata": {},
   "outputs": [
    {
     "data": {
      "text/html": [
       "<div>\n",
       "<style scoped>\n",
       "    .dataframe tbody tr th:only-of-type {\n",
       "        vertical-align: middle;\n",
       "    }\n",
       "\n",
       "    .dataframe tbody tr th {\n",
       "        vertical-align: top;\n",
       "    }\n",
       "\n",
       "    .dataframe thead th {\n",
       "        text-align: right;\n",
       "    }\n",
       "</style>\n",
       "<table border=\"1\" class=\"dataframe\">\n",
       "  <thead>\n",
       "    <tr style=\"text-align: right;\">\n",
       "      <th>fraud</th>\n",
       "      <th>0</th>\n",
       "      <th>1</th>\n",
       "      <th>All</th>\n",
       "    </tr>\n",
       "    <tr>\n",
       "      <th>used_pin_number</th>\n",
       "      <th></th>\n",
       "      <th></th>\n",
       "      <th></th>\n",
       "    </tr>\n",
       "  </thead>\n",
       "  <tbody>\n",
       "    <tr>\n",
       "      <th>0</th>\n",
       "      <td>635848</td>\n",
       "      <td>68229</td>\n",
       "      <td>704077</td>\n",
       "    </tr>\n",
       "    <tr>\n",
       "      <th>1</th>\n",
       "      <td>78715</td>\n",
       "      <td>208</td>\n",
       "      <td>78923</td>\n",
       "    </tr>\n",
       "    <tr>\n",
       "      <th>All</th>\n",
       "      <td>714563</td>\n",
       "      <td>68437</td>\n",
       "      <td>783000</td>\n",
       "    </tr>\n",
       "  </tbody>\n",
       "</table>\n",
       "</div>"
      ],
      "text/plain": [
       "fraud                 0      1     All\n",
       "used_pin_number                       \n",
       "0                635848  68229  704077\n",
       "1                 78715    208   78923\n",
       "All              714563  68437  783000"
      ]
     },
     "execution_count": 15,
     "metadata": {},
     "output_type": "execute_result"
    }
   ],
   "source": [
    "pd.crosstab(dados['used_pin_number'], dados['fraud'], normalize=False, margins=True)"
   ]
  },
  {
   "cell_type": "markdown",
   "metadata": {},
   "source": [
    "A probabilidade da transação ser fraudulenta, condicionada que foi feita usando o chip, é menor comparada sem o uso do chip ($~3\\%$ menor) e sem considerar a variável chip ($~2\\%$ menor). Neste caso, veja que a quantidade absoluta de casos fraudulentos é considerável com e sem o uso do chip."
   ]
  },
  {
   "cell_type": "code",
   "execution_count": 16,
   "metadata": {},
   "outputs": [
    {
     "data": {
      "text/html": [
       "<div>\n",
       "<style scoped>\n",
       "    .dataframe tbody tr th:only-of-type {\n",
       "        vertical-align: middle;\n",
       "    }\n",
       "\n",
       "    .dataframe tbody tr th {\n",
       "        vertical-align: top;\n",
       "    }\n",
       "\n",
       "    .dataframe thead th {\n",
       "        text-align: right;\n",
       "    }\n",
       "</style>\n",
       "<table border=\"1\" class=\"dataframe\">\n",
       "  <thead>\n",
       "    <tr style=\"text-align: right;\">\n",
       "      <th>fraud</th>\n",
       "      <th>0</th>\n",
       "      <th>1</th>\n",
       "    </tr>\n",
       "    <tr>\n",
       "      <th>used_chip</th>\n",
       "      <th></th>\n",
       "      <th></th>\n",
       "    </tr>\n",
       "  </thead>\n",
       "  <tbody>\n",
       "    <tr>\n",
       "      <th>0</th>\n",
       "      <td>0.900062</td>\n",
       "      <td>0.099938</td>\n",
       "    </tr>\n",
       "    <tr>\n",
       "      <th>1</th>\n",
       "      <td>0.935842</td>\n",
       "      <td>0.064158</td>\n",
       "    </tr>\n",
       "    <tr>\n",
       "      <th>All</th>\n",
       "      <td>0.912596</td>\n",
       "      <td>0.087404</td>\n",
       "    </tr>\n",
       "  </tbody>\n",
       "</table>\n",
       "</div>"
      ],
      "text/plain": [
       "fraud             0         1\n",
       "used_chip                    \n",
       "0          0.900062  0.099938\n",
       "1          0.935842  0.064158\n",
       "All        0.912596  0.087404"
      ]
     },
     "execution_count": 16,
     "metadata": {},
     "output_type": "execute_result"
    }
   ],
   "source": [
    "pd.crosstab(dados['used_chip'], dados['fraud'], normalize='index', margins=True)"
   ]
  },
  {
   "cell_type": "code",
   "execution_count": 17,
   "metadata": {},
   "outputs": [
    {
     "data": {
      "text/html": [
       "<div>\n",
       "<style scoped>\n",
       "    .dataframe tbody tr th:only-of-type {\n",
       "        vertical-align: middle;\n",
       "    }\n",
       "\n",
       "    .dataframe tbody tr th {\n",
       "        vertical-align: top;\n",
       "    }\n",
       "\n",
       "    .dataframe thead th {\n",
       "        text-align: right;\n",
       "    }\n",
       "</style>\n",
       "<table border=\"1\" class=\"dataframe\">\n",
       "  <thead>\n",
       "    <tr style=\"text-align: right;\">\n",
       "      <th>fraud</th>\n",
       "      <th>0</th>\n",
       "      <th>1</th>\n",
       "      <th>All</th>\n",
       "    </tr>\n",
       "    <tr>\n",
       "      <th>used_chip</th>\n",
       "      <th></th>\n",
       "      <th></th>\n",
       "      <th></th>\n",
       "    </tr>\n",
       "  </thead>\n",
       "  <tbody>\n",
       "    <tr>\n",
       "      <th>0</th>\n",
       "      <td>457855</td>\n",
       "      <td>50838</td>\n",
       "      <td>508693</td>\n",
       "    </tr>\n",
       "    <tr>\n",
       "      <th>1</th>\n",
       "      <td>256708</td>\n",
       "      <td>17599</td>\n",
       "      <td>274307</td>\n",
       "    </tr>\n",
       "    <tr>\n",
       "      <th>All</th>\n",
       "      <td>714563</td>\n",
       "      <td>68437</td>\n",
       "      <td>783000</td>\n",
       "    </tr>\n",
       "  </tbody>\n",
       "</table>\n",
       "</div>"
      ],
      "text/plain": [
       "fraud           0      1     All\n",
       "used_chip                       \n",
       "0          457855  50838  508693\n",
       "1          256708  17599  274307\n",
       "All        714563  68437  783000"
      ]
     },
     "execution_count": 17,
     "metadata": {},
     "output_type": "execute_result"
    }
   ],
   "source": [
    "pd.crosstab(dados['used_chip'], dados['fraud'], normalize=False, margins=True)"
   ]
  },
  {
   "cell_type": "markdown",
   "metadata": {},
   "source": [
    "Na era digital em que vivemos, era de se esperar que a probabilidade de ser uma transação fraudulenta condicionada se o pedido foi online ou não fosse bem diferente. Note que, a probabilidade da transação ser fraudulenta é 12x maior quando o pedido foi feito online, comparado quando não foi feito online. Além disso, percebe-se diferença em relação a distribuição geral de fraudes, ou seja, a frequência de ser uma transação fraudulenta condicionada ao pedido online está 4 p.p. acima da média de fraudes."
   ]
  },
  {
   "cell_type": "code",
   "execution_count": 18,
   "metadata": {},
   "outputs": [
    {
     "data": {
      "text/html": [
       "<div>\n",
       "<style scoped>\n",
       "    .dataframe tbody tr th:only-of-type {\n",
       "        vertical-align: middle;\n",
       "    }\n",
       "\n",
       "    .dataframe tbody tr th {\n",
       "        vertical-align: top;\n",
       "    }\n",
       "\n",
       "    .dataframe thead th {\n",
       "        text-align: right;\n",
       "    }\n",
       "</style>\n",
       "<table border=\"1\" class=\"dataframe\">\n",
       "  <thead>\n",
       "    <tr style=\"text-align: right;\">\n",
       "      <th>fraud</th>\n",
       "      <th>0</th>\n",
       "      <th>1</th>\n",
       "    </tr>\n",
       "    <tr>\n",
       "      <th>online_order</th>\n",
       "      <th></th>\n",
       "      <th></th>\n",
       "    </tr>\n",
       "  </thead>\n",
       "  <tbody>\n",
       "    <tr>\n",
       "      <th>0</th>\n",
       "      <td>0.986505</td>\n",
       "      <td>0.013495</td>\n",
       "    </tr>\n",
       "    <tr>\n",
       "      <th>1</th>\n",
       "      <td>0.872904</td>\n",
       "      <td>0.127096</td>\n",
       "    </tr>\n",
       "    <tr>\n",
       "      <th>All</th>\n",
       "      <td>0.912596</td>\n",
       "      <td>0.087404</td>\n",
       "    </tr>\n",
       "  </tbody>\n",
       "</table>\n",
       "</div>"
      ],
      "text/plain": [
       "fraud                0         1\n",
       "online_order                    \n",
       "0             0.986505  0.013495\n",
       "1             0.872904  0.127096\n",
       "All           0.912596  0.087404"
      ]
     },
     "execution_count": 18,
     "metadata": {},
     "output_type": "execute_result"
    }
   ],
   "source": [
    "pd.crosstab(dados['online_order'], dados['fraud'], normalize='index', margins=True)"
   ]
  },
  {
   "cell_type": "code",
   "execution_count": 19,
   "metadata": {},
   "outputs": [
    {
     "data": {
      "text/html": [
       "<div>\n",
       "<style scoped>\n",
       "    .dataframe tbody tr th:only-of-type {\n",
       "        vertical-align: middle;\n",
       "    }\n",
       "\n",
       "    .dataframe tbody tr th {\n",
       "        vertical-align: top;\n",
       "    }\n",
       "\n",
       "    .dataframe thead th {\n",
       "        text-align: right;\n",
       "    }\n",
       "</style>\n",
       "<table border=\"1\" class=\"dataframe\">\n",
       "  <thead>\n",
       "    <tr style=\"text-align: right;\">\n",
       "      <th>fraud</th>\n",
       "      <th>0</th>\n",
       "      <th>1</th>\n",
       "      <th>All</th>\n",
       "    </tr>\n",
       "    <tr>\n",
       "      <th>online_order</th>\n",
       "      <th></th>\n",
       "      <th></th>\n",
       "      <th></th>\n",
       "    </tr>\n",
       "  </thead>\n",
       "  <tbody>\n",
       "    <tr>\n",
       "      <th>0</th>\n",
       "      <td>269890</td>\n",
       "      <td>3692</td>\n",
       "      <td>273582</td>\n",
       "    </tr>\n",
       "    <tr>\n",
       "      <th>1</th>\n",
       "      <td>444673</td>\n",
       "      <td>64745</td>\n",
       "      <td>509418</td>\n",
       "    </tr>\n",
       "    <tr>\n",
       "      <th>All</th>\n",
       "      <td>714563</td>\n",
       "      <td>68437</td>\n",
       "      <td>783000</td>\n",
       "    </tr>\n",
       "  </tbody>\n",
       "</table>\n",
       "</div>"
      ],
      "text/plain": [
       "fraud              0      1     All\n",
       "online_order                       \n",
       "0             269890   3692  273582\n",
       "1             444673  64745  509418\n",
       "All           714563  68437  783000"
      ]
     },
     "execution_count": 19,
     "metadata": {},
     "output_type": "execute_result"
    }
   ],
   "source": [
    "pd.crosstab(dados['online_order'], dados['fraud'], normalize=False, margins=True)"
   ]
  },
  {
   "cell_type": "markdown",
   "metadata": {},
   "source": [
    "### Bivariada: entre explicativas categóricas\n",
    "\n",
    "Busca-se identificar alguma relação entre as variáveis categóricas, identificando alguma concentração em níveis das variáveis explicativas. Aparentemente, nenhuma diferença foi observada."
   ]
  },
  {
   "cell_type": "code",
   "execution_count": 20,
   "metadata": {},
   "outputs": [
    {
     "name": "stdout",
     "output_type": "stream",
     "text": [
      "repeat_retailer + used_pin_number\n",
      "used_pin_number         0         1\n",
      "repeat_retailer                    \n",
      "0                0.898778  0.101222\n",
      "1                0.899262  0.100738\n",
      "All              0.899204  0.100796\n",
      "\n",
      "\n",
      "====================================\n",
      "\n",
      "\n",
      "repeat_retailer + used_chip\n",
      "used_chip               0         1\n",
      "repeat_retailer                    \n",
      "0                0.646265  0.353735\n",
      "1                0.650131  0.349869\n",
      "All              0.649672  0.350328\n",
      "\n",
      "\n",
      "====================================\n",
      "\n",
      "\n",
      "repeat_retailer + online_order\n",
      "online_order            0         1\n",
      "repeat_retailer                    \n",
      "0                0.349274  0.650726\n",
      "1                0.349420  0.650580\n",
      "All              0.349402  0.650598\n",
      "\n",
      "\n",
      "====================================\n",
      "\n",
      "\n",
      "used_pin_number + used_chip\n",
      "used_chip               0         1\n",
      "used_pin_number                    \n",
      "0                0.649378  0.350622\n",
      "1                0.652294  0.347706\n",
      "All              0.649672  0.350328\n",
      "\n",
      "\n",
      "====================================\n",
      "\n",
      "\n",
      "used_pin_number + online_order\n",
      "online_order            0         1\n",
      "used_pin_number                    \n",
      "0                0.349433  0.650567\n",
      "1                0.349125  0.650875\n",
      "All              0.349402  0.650598\n",
      "\n",
      "\n",
      "====================================\n",
      "\n",
      "\n",
      "used_chip + online_order\n",
      "online_order         0         1\n",
      "used_chip                       \n",
      "0             0.349264  0.650736\n",
      "1             0.349659  0.650341\n",
      "All           0.349402  0.650598\n",
      "\n",
      "\n",
      "====================================\n",
      "\n",
      "\n"
     ]
    }
   ],
   "source": [
    "colunas = ['repeat_retailer', 'used_pin_number', 'used_chip', 'online_order']\n",
    "\n",
    "for i in range(0,len(colunas)):\n",
    "    for j in range(i+1,len(colunas)):\n",
    "        print(colunas[i], '+', colunas[j])\n",
    "        print(pd.crosstab(dados[colunas[i]], dados[colunas[j]], normalize='index', margins=True))\n",
    "        print('\\n')\n",
    "        print('====================================')\n",
    "        print('\\n')"
   ]
  },
  {
   "cell_type": "markdown",
   "metadata": {},
   "source": [
    "## Estudo das variáveis numéricas"
   ]
  },
  {
   "cell_type": "markdown",
   "metadata": {},
   "source": [
    "- 50% das transações estão entre 3.8 a 25.7 unidades de medida, distantes de casa;\n",
    "- 50% das transações estão entre 0.29 a 3.35 unidades de medida, da última transação e \n",
    "- 50% das transações estão entre 0.48 a 2.1 vezes a mediana de compra dos clientes."
   ]
  },
  {
   "cell_type": "code",
   "execution_count": 5,
   "metadata": {},
   "outputs": [
    {
     "data": {
      "text/html": [
       "<div>\n",
       "<style scoped>\n",
       "    .dataframe tbody tr th:only-of-type {\n",
       "        vertical-align: middle;\n",
       "    }\n",
       "\n",
       "    .dataframe tbody tr th {\n",
       "        vertical-align: top;\n",
       "    }\n",
       "\n",
       "    .dataframe thead th {\n",
       "        text-align: right;\n",
       "    }\n",
       "</style>\n",
       "<table border=\"1\" class=\"dataframe\">\n",
       "  <thead>\n",
       "    <tr style=\"text-align: right;\">\n",
       "      <th></th>\n",
       "      <th>distance_from_home</th>\n",
       "      <th>distance_from_last_transaction</th>\n",
       "      <th>ratio_to_median_purchase_price</th>\n",
       "    </tr>\n",
       "  </thead>\n",
       "  <tbody>\n",
       "    <tr>\n",
       "      <th>count</th>\n",
       "      <td>783000.000000</td>\n",
       "      <td>783000.000000</td>\n",
       "      <td>783000.000000</td>\n",
       "    </tr>\n",
       "    <tr>\n",
       "      <th>mean</th>\n",
       "      <td>26.533938</td>\n",
       "      <td>5.024006</td>\n",
       "      <td>1.824391</td>\n",
       "    </tr>\n",
       "    <tr>\n",
       "      <th>std</th>\n",
       "      <td>64.342181</td>\n",
       "      <td>26.771080</td>\n",
       "      <td>2.787147</td>\n",
       "    </tr>\n",
       "    <tr>\n",
       "      <th>min</th>\n",
       "      <td>0.004874</td>\n",
       "      <td>0.000118</td>\n",
       "      <td>0.004399</td>\n",
       "    </tr>\n",
       "    <tr>\n",
       "      <th>25%</th>\n",
       "      <td>3.877454</td>\n",
       "      <td>0.296673</td>\n",
       "      <td>0.475770</td>\n",
       "    </tr>\n",
       "    <tr>\n",
       "      <th>50%</th>\n",
       "      <td>9.963822</td>\n",
       "      <td>0.999645</td>\n",
       "      <td>0.998162</td>\n",
       "    </tr>\n",
       "    <tr>\n",
       "      <th>75%</th>\n",
       "      <td>25.734682</td>\n",
       "      <td>3.358644</td>\n",
       "      <td>2.098965</td>\n",
       "    </tr>\n",
       "    <tr>\n",
       "      <th>max</th>\n",
       "      <td>10632.723672</td>\n",
       "      <td>11851.104565</td>\n",
       "      <td>266.689692</td>\n",
       "    </tr>\n",
       "  </tbody>\n",
       "</table>\n",
       "</div>"
      ],
      "text/plain": [
       "       distance_from_home  distance_from_last_transaction  \\\n",
       "count       783000.000000                   783000.000000   \n",
       "mean            26.533938                        5.024006   \n",
       "std             64.342181                       26.771080   \n",
       "min              0.004874                        0.000118   \n",
       "25%              3.877454                        0.296673   \n",
       "50%              9.963822                        0.999645   \n",
       "75%             25.734682                        3.358644   \n",
       "max          10632.723672                    11851.104565   \n",
       "\n",
       "       ratio_to_median_purchase_price  \n",
       "count                   783000.000000  \n",
       "mean                         1.824391  \n",
       "std                          2.787147  \n",
       "min                          0.004399  \n",
       "25%                          0.475770  \n",
       "50%                          0.998162  \n",
       "75%                          2.098965  \n",
       "max                        266.689692  "
      ]
     },
     "execution_count": 5,
     "metadata": {},
     "output_type": "execute_result"
    }
   ],
   "source": [
    "dados[['distance_from_home', 'distance_from_last_transaction', 'ratio_to_median_purchase_price']].describe()"
   ]
  },
  {
   "cell_type": "markdown",
   "metadata": {},
   "source": [
    "### Univariada"
   ]
  },
  {
   "cell_type": "code",
   "execution_count": 22,
   "metadata": {},
   "outputs": [
    {
     "data": {
      "image/png": "[encoded data removed]",
      "text/plain": [
       "<Figure size 640x480 with 1 Axes>"
      ]
     },
     "metadata": {},
     "output_type": "display_data"
    }
   ],
   "source": [
    "# Muita concentração em distâncias até 1000 unidades de medida\n",
    "plot_histograma(df=dados, variavel='distance_from_home', bins=50)      "
   ]
  },
  {
   "cell_type": "code",
   "execution_count": 23,
   "metadata": {},
   "outputs": [
    {
     "data": {
      "image/png": "[encoded data removed]",
      "text/plain": [
       "<Figure size 640x480 with 1 Axes>"
      ]
     },
     "metadata": {},
     "output_type": "display_data"
    }
   ],
   "source": [
    "plt.hist(np.log(dados['distance_from_home']))\n",
    "plt.show()"
   ]
  },
  {
   "cell_type": "code",
   "execution_count": 24,
   "metadata": {},
   "outputs": [
    {
     "data": {
      "image/png": "[encoded data removed]",
      "text/plain": [
       "<Figure size 640x480 with 1 Axes>"
      ]
     },
     "metadata": {},
     "output_type": "display_data"
    }
   ],
   "source": [
    "# Muita concentração em distâncias até 1000 unidades de medida\n",
    "plot_histograma(df=dados, variavel='distance_from_last_transaction', bins=50)"
   ]
  },
  {
   "cell_type": "code",
   "execution_count": 25,
   "metadata": {},
   "outputs": [
    {
     "data": {
      "image/png": "[encoded data removed]",
      "text/plain": [
       "<Figure size 640x480 with 1 Axes>"
      ]
     },
     "metadata": {},
     "output_type": "display_data"
    }
   ],
   "source": [
    "plt.hist(np.log(dados['distance_from_last_transaction']))\n",
    "plt.show()"
   ]
  },
  {
   "cell_type": "code",
   "execution_count": 26,
   "metadata": {},
   "outputs": [
    {
     "data": {
      "image/png": "[encoded data removed]",
      "text/plain": [
       "<Figure size 640x480 with 1 Axes>"
      ]
     },
     "metadata": {},
     "output_type": "display_data"
    }
   ],
   "source": [
    "# Muita concentração em valores até 25 vezes a mediana de compras\n",
    "plot_histograma(df=dados, variavel='ratio_to_median_purchase_price', bins=50)"
   ]
  },
  {
   "cell_type": "code",
   "execution_count": 27,
   "metadata": {},
   "outputs": [
    {
     "data": {
      "image/png": "[encoded data removed]",
      "text/plain": [
       "<Figure size 640x480 with 1 Axes>"
      ]
     },
     "metadata": {},
     "output_type": "display_data"
    }
   ],
   "source": [
    "plt.hist(np.log(dados['ratio_to_median_purchase_price']))\n",
    "plt.show()"
   ]
  },
  {
   "cell_type": "markdown",
   "metadata": {},
   "source": [
    "### Construção das variáveis numéricas na escala logarítmica e as relações com a target"
   ]
  },
  {
   "cell_type": "code",
   "execution_count": 6,
   "metadata": {},
   "outputs": [],
   "source": [
    "dados['log_distance_from_home'] = np.log(dados['distance_from_home'])\n",
    "dados['log_distance_from_last_transaction'] = np.log(dados['distance_from_last_transaction'])\n",
    "dados['log_ratio_to_median_purchase_price'] = np.log(dados['ratio_to_median_purchase_price'])"
   ]
  },
  {
   "cell_type": "markdown",
   "metadata": {},
   "source": [
    "De maneira geral, nota-se que as transações fraudulentas tem um pico na cauda superior direita da distribuição, com destaque para a variável log_ratio_to_median_purchase_price."
   ]
  },
  {
   "cell_type": "code",
   "execution_count": 7,
   "metadata": {},
   "outputs": [
    {
     "data": {
      "image/png": "[encoded data removed]",
      "text/plain": [
       "<Figure size 640x480 with 1 Axes>"
      ]
     },
     "metadata": {},
     "output_type": "display_data"
    }
   ],
   "source": [
    "plot_histograma(df=dados, variavel='log_distance_from_home', label='fraud',bins=50)"
   ]
  },
  {
   "cell_type": "code",
   "execution_count": 8,
   "metadata": {},
   "outputs": [
    {
     "data": {
      "image/png": "[encoded data removed]",
      "text/plain": [
       "<Figure size 640x480 with 1 Axes>"
      ]
     },
     "metadata": {},
     "output_type": "display_data"
    }
   ],
   "source": [
    "plot_histograma(df=dados, variavel='log_distance_from_last_transaction', label='fraud',bins=50)"
   ]
  },
  {
   "cell_type": "code",
   "execution_count": 9,
   "metadata": {},
   "outputs": [
    {
     "data": {
      "image/png": "[encoded data removed]",
      "text/plain": [
       "<Figure size 640x480 with 1 Axes>"
      ]
     },
     "metadata": {},
     "output_type": "display_data"
    }
   ],
   "source": [
    "plot_histograma(df=dados, variavel='log_ratio_to_median_purchase_price', label='fraud',bins=50)"
   ]
  },
  {
   "cell_type": "markdown",
   "metadata": {},
   "source": [
    "### Correlação entre as variáveis numéricas"
   ]
  },
  {
   "cell_type": "code",
   "execution_count": 12,
   "metadata": {},
   "outputs": [],
   "source": [
    "lista_numericas = ['log_distance_from_home', 'log_distance_from_last_transaction', 'log_ratio_to_median_purchase_price']"
   ]
  },
  {
   "cell_type": "code",
   "execution_count": 14,
   "metadata": {},
   "outputs": [
    {
     "data": {
      "text/html": [
       "<div>\n",
       "<style scoped>\n",
       "    .dataframe tbody tr th:only-of-type {\n",
       "        vertical-align: middle;\n",
       "    }\n",
       "\n",
       "    .dataframe tbody tr th {\n",
       "        vertical-align: top;\n",
       "    }\n",
       "\n",
       "    .dataframe thead th {\n",
       "        text-align: right;\n",
       "    }\n",
       "</style>\n",
       "<table border=\"1\" class=\"dataframe\">\n",
       "  <thead>\n",
       "    <tr style=\"text-align: right;\">\n",
       "      <th></th>\n",
       "      <th>Var1</th>\n",
       "      <th>Var2</th>\n",
       "      <th>Valores</th>\n",
       "    </tr>\n",
       "  </thead>\n",
       "  <tbody>\n",
       "  </tbody>\n",
       "</table>\n",
       "</div>"
      ],
      "text/plain": [
       "Empty DataFrame\n",
       "Columns: [Var1, Var2, Valores]\n",
       "Index: []"
      ]
     },
     "execution_count": 14,
     "metadata": {},
     "output_type": "execute_result"
    }
   ],
   "source": [
    "# Nenhuma variável numérica correlacionada com outra\n",
    "Vars_Correl(dataframe=dados, list_vars_num=lista_numericas, limiar=0.6, metodo='spearman')"
   ]
  },
  {
   "cell_type": "markdown",
   "metadata": {},
   "source": [
    "### Categorização das variáveis numéricas"
   ]
  },
  {
   "cell_type": "code",
   "execution_count": 15,
   "metadata": {},
   "outputs": [],
   "source": [
    "cortes_DFH = Categorizacao(dados, 5, 'log_distance_from_home')\n",
    "cortes_DFLT = Categorizacao(dados, 5, 'log_distance_from_last_transaction')\n",
    "cortes_RMPP = Categorizacao(dados, 5, 'log_ratio_to_median_purchase_price')"
   ]
  },
  {
   "cell_type": "code",
   "execution_count": 23,
   "metadata": {},
   "outputs": [],
   "source": [
    "dados['DFH'] = pd.cut(dados['log_distance_from_home'], bins=cortes_DFH[1], include_lowest=True)\n",
    "dados['DFLT'] = pd.cut(dados['log_distance_from_last_transaction'], bins=cortes_DFLT[1], include_lowest=True)\n",
    "dados['RMPP'] = pd.cut(dados['log_ratio_to_median_purchase_price'], bins=cortes_RMPP[1], include_lowest=True)"
   ]
  },
  {
   "cell_type": "markdown",
   "metadata": {},
   "source": [
    "# Cálculo do IV das variáveis"
   ]
  },
  {
   "cell_type": "code",
   "execution_count": 24,
   "metadata": {},
   "outputs": [
    {
     "data": {
      "text/plain": [
       "Index(['distance_from_home', 'distance_from_last_transaction',\n",
       "       'ratio_to_median_purchase_price', 'repeat_retailer', 'used_chip',\n",
       "       'used_pin_number', 'online_order', 'fraud', 'log_distance_from_home',\n",
       "       'log_distance_from_last_transaction',\n",
       "       'log_ratio_to_median_purchase_price', 'DFH', 'DFLT', 'RMPP'],\n",
       "      dtype='object')"
      ]
     },
     "execution_count": 24,
     "metadata": {},
     "output_type": "execute_result"
    }
   ],
   "source": [
    "dados.columns"
   ]
  },
  {
   "cell_type": "code",
   "execution_count": 36,
   "metadata": {},
   "outputs": [
    {
     "name": "stdout",
     "output_type": "stream",
     "text": [
      "<class 'pandas.core.frame.DataFrame'>\n",
      "Index: 783000 entries, 353955 to 748258\n",
      "Data columns (total 14 columns):\n",
      " #   Column                              Non-Null Count   Dtype   \n",
      "---  ------                              --------------   -----   \n",
      " 0   distance_from_home                  783000 non-null  float64 \n",
      " 1   distance_from_last_transaction      783000 non-null  float64 \n",
      " 2   ratio_to_median_purchase_price      783000 non-null  float64 \n",
      " 3   repeat_retailer                     783000 non-null  int64   \n",
      " 4   used_chip                           783000 non-null  int64   \n",
      " 5   used_pin_number                     783000 non-null  int64   \n",
      " 6   online_order                        783000 non-null  int64   \n",
      " 7   fraud                               783000 non-null  int64   \n",
      " 8   log_distance_from_home              783000 non-null  float64 \n",
      " 9   log_distance_from_last_transaction  783000 non-null  float64 \n",
      " 10  log_ratio_to_median_purchase_price  783000 non-null  float64 \n",
      " 11  DFH                                 783000 non-null  category\n",
      " 12  DFLT                                783000 non-null  category\n",
      " 13  RMPP                                783000 non-null  category\n",
      "dtypes: category(3), float64(6), int64(5)\n",
      "memory usage: 73.9 MB\n"
     ]
    }
   ],
   "source": [
    "dados.info()"
   ]
  },
  {
   "cell_type": "code",
   "execution_count": 39,
   "metadata": {},
   "outputs": [
    {
     "name": "stderr",
     "output_type": "stream",
     "text": [
      "/tmp/ipykernel_14204/1011214775.py:4: SettingWithCopyWarning: \n",
      "A value is trying to be set on a copy of a slice from a DataFrame.\n",
      "Try using .loc[row_indexer,col_indexer] = value instead\n",
      "\n",
      "See the caveats in the documentation: https://pandas.pydata.org/pandas-docs/stable/user_guide/indexing.html#returning-a-view-versus-a-copy\n",
      "  dados_iv['repeat_retailer'] = dados_iv['repeat_retailer'].astype('category')\n",
      "/tmp/ipykernel_14204/1011214775.py:5: SettingWithCopyWarning: \n",
      "A value is trying to be set on a copy of a slice from a DataFrame.\n",
      "Try using .loc[row_indexer,col_indexer] = value instead\n",
      "\n",
      "See the caveats in the documentation: https://pandas.pydata.org/pandas-docs/stable/user_guide/indexing.html#returning-a-view-versus-a-copy\n",
      "  dados_iv['used_chip'] = dados_iv['used_chip'].astype('category')\n",
      "/tmp/ipykernel_14204/1011214775.py:6: SettingWithCopyWarning: \n",
      "A value is trying to be set on a copy of a slice from a DataFrame.\n",
      "Try using .loc[row_indexer,col_indexer] = value instead\n",
      "\n",
      "See the caveats in the documentation: https://pandas.pydata.org/pandas-docs/stable/user_guide/indexing.html#returning-a-view-versus-a-copy\n",
      "  dados_iv['used_pin_number'] = dados_iv['used_pin_number'].astype('category')\n",
      "/tmp/ipykernel_14204/1011214775.py:7: SettingWithCopyWarning: \n",
      "A value is trying to be set on a copy of a slice from a DataFrame.\n",
      "Try using .loc[row_indexer,col_indexer] = value instead\n",
      "\n",
      "See the caveats in the documentation: https://pandas.pydata.org/pandas-docs/stable/user_guide/indexing.html#returning-a-view-versus-a-copy\n",
      "  dados_iv['online_order'] = dados_iv['online_order'].astype('category')\n"
     ]
    }
   ],
   "source": [
    "vars = ['repeat_retailer', 'used_chip', 'used_pin_number', 'online_order', 'DFH', 'DFLT', 'RMPP', 'fraud']\n",
    "dados_iv = dados[vars]\n",
    "\n",
    "dados_iv['repeat_retailer'] = dados_iv['repeat_retailer'].astype('category')\n",
    "dados_iv['used_chip'] = dados_iv['used_chip'].astype('category')\n",
    "dados_iv['used_pin_number'] = dados_iv['used_pin_number'].astype('category')\n",
    "dados_iv['online_order'] = dados_iv['online_order'].astype('category')"
   ]
  },
  {
   "cell_type": "code",
   "execution_count": 41,
   "metadata": {},
   "outputs": [
    {
     "data": {
      "text/html": [
       "<div>\n",
       "<style scoped>\n",
       "    .dataframe tbody tr th:only-of-type {\n",
       "        vertical-align: middle;\n",
       "    }\n",
       "\n",
       "    .dataframe tbody tr th {\n",
       "        vertical-align: top;\n",
       "    }\n",
       "\n",
       "    .dataframe thead th {\n",
       "        text-align: right;\n",
       "    }\n",
       "</style>\n",
       "<table border=\"1\" class=\"dataframe\">\n",
       "  <thead>\n",
       "    <tr style=\"text-align: right;\">\n",
       "      <th></th>\n",
       "      <th>Variaveis</th>\n",
       "      <th>IV</th>\n",
       "    </tr>\n",
       "  </thead>\n",
       "  <tbody>\n",
       "    <tr>\n",
       "      <th>6</th>\n",
       "      <td>RMPP</td>\n",
       "      <td>1.881547</td>\n",
       "    </tr>\n",
       "    <tr>\n",
       "      <th>3</th>\n",
       "      <td>online_order</td>\n",
       "      <td>0.765662</td>\n",
       "    </tr>\n",
       "    <tr>\n",
       "      <th>2</th>\n",
       "      <td>used_pin_number</td>\n",
       "      <td>0.396764</td>\n",
       "    </tr>\n",
       "    <tr>\n",
       "      <th>4</th>\n",
       "      <td>DFH</td>\n",
       "      <td>0.177058</td>\n",
       "    </tr>\n",
       "    <tr>\n",
       "      <th>1</th>\n",
       "      <td>used_chip</td>\n",
       "      <td>0.049229</td>\n",
       "    </tr>\n",
       "    <tr>\n",
       "      <th>5</th>\n",
       "      <td>DFLT</td>\n",
       "      <td>0.018672</td>\n",
       "    </tr>\n",
       "    <tr>\n",
       "      <th>0</th>\n",
       "      <td>repeat_retailer</td>\n",
       "      <td>0.000020</td>\n",
       "    </tr>\n",
       "  </tbody>\n",
       "</table>\n",
       "</div>"
      ],
      "text/plain": [
       "         Variaveis        IV\n",
       "6             RMPP  1.881547\n",
       "3     online_order  0.765662\n",
       "2  used_pin_number  0.396764\n",
       "4              DFH  0.177058\n",
       "1        used_chip  0.049229\n",
       "5             DFLT  0.018672\n",
       "0  repeat_retailer  0.000020"
      ]
     },
     "execution_count": 41,
     "metadata": {},
     "output_type": "execute_result"
    }
   ],
   "source": [
    "IV_lista_variaveis(dados = dados_iv, var_target = 'fraud')"
   ]
  }
 ],
 "metadata": {
  "kernelspec": {
   "display_name": "vFraude_CC",
   "language": "python",
   "name": "python3"
  },
  "language_info": {
   "codemirror_mode": {
    "name": "ipython",
    "version": 3
   },
   "file_extension": ".py",
   "mimetype": "text/x-python",
   "name": "python",
   "nbconvert_exporter": "python",
   "pygments_lexer": "ipython3",
   "version": "3.12.3"
  }
 },
 "nbformat": 4,
 "nbformat_minor": 2
}
