{
 "cells": [
  {
   "cell_type": "markdown",
   "metadata": {},
   "source": [
    "# Descrição do notebook\n",
    "\n",
    "Uso da API do Kaggle para listar e baixar o conjunto de dados para o estudo de fraude de cartão de crédito. Particionamento da base em treino, validação e teste."
   ]
  },
  {
   "cell_type": "markdown",
   "metadata": {},
   "source": [
    "# Pacotes e funções"
   ]
  },
  {
   "cell_type": "code",
   "execution_count": 39,
   "metadata": {},
   "outputs": [],
   "source": [
    "#!pip install kaggle\n",
    "#!pip install fastparquet"
   ]
  },
  {
   "cell_type": "code",
   "execution_count": 18,
   "metadata": {},
   "outputs": [],
   "source": [
    "from kaggle.api.kaggle_api_extended import KaggleApi\n",
    "from sklearn.model_selection import train_test_split\n",
    "import zipfile\n",
    "import os\n",
    "import pandas as pd"
   ]
  },
  {
   "cell_type": "code",
   "execution_count": 4,
   "metadata": {},
   "outputs": [],
   "source": [
    "api = KaggleApi()\n",
    "api.authenticate()"
   ]
  },
  {
   "cell_type": "code",
   "execution_count": 17,
   "metadata": {},
   "outputs": [],
   "source": [
    "def Ajusta_Formatos(dataframe):\n",
    "    # Função que recebe um pandas dataframe e ajusta as colunas para int\n",
    "    # Retorna um pandas dataframe com as colunas ajustadas\n",
    "    \n",
    "    dataframe['repeat_retailer'] = dataframe['repeat_retailer'].astype(int)\n",
    "    dataframe['used_chip'] = dataframe['used_chip'].astype(int)\n",
    "    dataframe['used_pin_number'] = dataframe['used_pin_number'].astype(int)\n",
    "    dataframe['online_order'] = dataframe['online_order'].astype(int)\n",
    "    dataframe['fraud'] = dataframe['fraud'].astype(int)\n",
    "\n",
    "    return dataframe"
   ]
  },
  {
   "cell_type": "markdown",
   "metadata": {},
   "source": [
    "# Lista dados com informação de cartão de crédito e fraude"
   ]
  },
  {
   "cell_type": "code",
   "execution_count": 5,
   "metadata": {},
   "outputs": [
    {
     "name": "stdout",
     "output_type": "stream",
     "text": [
      "ref                                                        title                                              size  lastUpdated          downloadCount  voteCount  usabilityRating  \n",
      "---------------------------------------------------------  ------------------------------------------------  -----  -------------------  -------------  ---------  ---------------  \n",
      "mlg-ulb/creditcardfraud                                    Credit Card Fraud Detection                        66MB  2018-03-23 01:17:27         825408      11911  0.85294116       \n",
      "dhanushnarayananr/credit-card-fraud                        Credit Card Fraud                                  29MB  2022-05-07 15:09:29          20504        198  0.9411765        \n",
      "mishra5001/credit-card                                     Credit Card Fraud Detection                       112MB  2019-07-15 06:36:02          21591        240  0.88235295       \n",
      "joebeachcapital/credit-card-fraud                          Credit Card Fraud                                 213MB  2023-08-07 02:16:37           3662         64  1.0              \n",
      "nelgiriyewithana/credit-card-fraud-detection-dataset-2023  Credit Card Fraud Detection Dataset 2023          143MB  2023-09-18 10:00:19          35062        528  1.0              \n",
      "kartik2112/fraud-detection                                 Credit Card Transactions Fraud Detection Dataset  202MB  2020-08-05 15:20:55          67847        442  0.85294116       \n",
      "neharoychoudhury/credit-card-fraud-data                    Credit Card Fraud data                            839KB  2024-07-30 03:29:04           2455         42  1.0              \n",
      "kelvinkelue/credit-card-fraud-prediction                   Credit Card Fraud Prediction                       57MB  2024-03-11 12:34:56           5267         47  0.9411765        \n",
      "bhadramohit/credit-card-fraud-detection                    Credit Card Fraud Detection                         2MB  2024-10-21 09:26:17           3611         38  1.0              \n",
      "yashpaloswal/fraud-detection-credit-card                   Fraud Detection - Credit Card                      43MB  2022-09-09 17:46:36           4201         51  0.88235295       \n",
      "shayannaveed/credit-card-fraud-detection                   Credit Card Fraud Detection                        66MB  2019-12-24 08:07:24           2850         34  0.88235295       \n",
      "saurabhbagchi/credit-card-fraud-detection                  Credit Card Fraud Detection                        28MB  2021-07-18 14:27:20           2285         44  0.9375           \n",
      "teamincribo/credit-card-fraud                              Credit Card Fraud                                   2MB  2025-01-18 16:19:38           2587         34  0.9411765        \n",
      "isaikumar/creditcardfraud                                  Credit Card Fraud Detection Dataset                66MB  2018-05-05 09:38:01           6160         83  0.47058824       \n",
      "rikdifos/credit-card-approval-prediction                   Credit Card Approval Prediction                     5MB  2020-03-24 10:04:48          79907        856  1.0              \n",
      "whenamancodes/fraud-detection                              Fraud Detection                                    66MB  2022-09-12 11:54:40           9794        115  1.0              \n",
      "computingvictor/transactions-fraud-datasets                💳 Financial Transactions Dataset: Analytics       348MB  2024-10-31 21:29:56          13254        142  1.0              \n",
      "iabhishekofficial/creditcard-fraud-detection               CreditCard-Fraud-Detection                          7MB  2023-07-22 06:23:30           4359         50  0.7647059        \n",
      "anurag629/credit-card-fraud-transaction-data               Credit Card Fraud Transaction Data                  2MB  2023-08-20 02:24:39           1158         12  0.7058824        \n",
      "dileep070/anomaly-detection                                Credit card fraud detection                        43MB  2019-06-19 06:00:05           1235         26  0.3529412        \n"
     ]
    }
   ],
   "source": [
    "!kaggle datasets list -s credit-card-fraud"
   ]
  },
  {
   "cell_type": "markdown",
   "metadata": {},
   "source": [
    "## Download dos dados \n",
    "\n",
    "Faz o download dos dados, que estão disponíveis no link descrito no README."
   ]
  },
  {
   "cell_type": "code",
   "execution_count": 6,
   "metadata": {},
   "outputs": [
    {
     "name": "stdout",
     "output_type": "stream",
     "text": [
      "Dataset URL: https://www.kaggle.com/datasets/dhanushnarayananr/credit-card-fraud\n",
      "License(s): CC0-1.0\n",
      "Downloading credit-card-fraud.zip to /home/hugo/Documents/Git_GitHub/Estudo_Fraude_CC/vFraude_CC/Base_de_dados\n",
      " 93%|███████████████████████████████████▌  | 27.0M/28.9M [00:02<00:00, 20.9MB/s]\n",
      "100%|██████████████████████████████████████| 28.9M/28.9M [00:02<00:00, 14.4MB/s]\n"
     ]
    }
   ],
   "source": [
    "!kaggle datasets download dhanushnarayananr/credit-card-fraud"
   ]
  },
  {
   "cell_type": "markdown",
   "metadata": {},
   "source": [
    "## Leitura e visualização dos dados\n",
    "\n",
    "distance_from_home - the distance from home where the transaction happened.\n",
    "\n",
    "distance_from_last_transaction - the distance from last transaction happened.\n",
    "\n",
    "ratio_to_median_purchase_price - Ratio of purchased price transaction to median purchase price.\n",
    "\n",
    "repeat_retailer - Is the transaction happened from same retailer.\n",
    "\n",
    "used_chip - Is the transaction through chip (credit card).\n",
    "\n",
    "used_pin_number - Is the transaction happened by using PIN number.\n",
    "\n",
    "online_order - Is the transaction an online order.\n",
    "\n",
    "fraud - Is the transaction fraudulent."
   ]
  },
  {
   "cell_type": "code",
   "execution_count": 7,
   "metadata": {},
   "outputs": [
    {
     "data": {
      "text/html": [
       "<div>\n",
       "<style scoped>\n",
       "    .dataframe tbody tr th:only-of-type {\n",
       "        vertical-align: middle;\n",
       "    }\n",
       "\n",
       "    .dataframe tbody tr th {\n",
       "        vertical-align: top;\n",
       "    }\n",
       "\n",
       "    .dataframe thead th {\n",
       "        text-align: right;\n",
       "    }\n",
       "</style>\n",
       "<table border=\"1\" class=\"dataframe\">\n",
       "  <thead>\n",
       "    <tr style=\"text-align: right;\">\n",
       "      <th></th>\n",
       "      <th>distance_from_home</th>\n",
       "      <th>distance_from_last_transaction</th>\n",
       "      <th>ratio_to_median_purchase_price</th>\n",
       "      <th>repeat_retailer</th>\n",
       "      <th>used_chip</th>\n",
       "      <th>used_pin_number</th>\n",
       "      <th>online_order</th>\n",
       "      <th>fraud</th>\n",
       "    </tr>\n",
       "  </thead>\n",
       "  <tbody>\n",
       "    <tr>\n",
       "      <th>0</th>\n",
       "      <td>57.877857</td>\n",
       "      <td>0.311140</td>\n",
       "      <td>1.945940</td>\n",
       "      <td>1.0</td>\n",
       "      <td>1.0</td>\n",
       "      <td>0.0</td>\n",
       "      <td>0.0</td>\n",
       "      <td>0.0</td>\n",
       "    </tr>\n",
       "    <tr>\n",
       "      <th>1</th>\n",
       "      <td>10.829943</td>\n",
       "      <td>0.175592</td>\n",
       "      <td>1.294219</td>\n",
       "      <td>1.0</td>\n",
       "      <td>0.0</td>\n",
       "      <td>0.0</td>\n",
       "      <td>0.0</td>\n",
       "      <td>0.0</td>\n",
       "    </tr>\n",
       "    <tr>\n",
       "      <th>2</th>\n",
       "      <td>5.091079</td>\n",
       "      <td>0.805153</td>\n",
       "      <td>0.427715</td>\n",
       "      <td>1.0</td>\n",
       "      <td>0.0</td>\n",
       "      <td>0.0</td>\n",
       "      <td>1.0</td>\n",
       "      <td>0.0</td>\n",
       "    </tr>\n",
       "    <tr>\n",
       "      <th>3</th>\n",
       "      <td>2.247564</td>\n",
       "      <td>5.600044</td>\n",
       "      <td>0.362663</td>\n",
       "      <td>1.0</td>\n",
       "      <td>1.0</td>\n",
       "      <td>0.0</td>\n",
       "      <td>1.0</td>\n",
       "      <td>0.0</td>\n",
       "    </tr>\n",
       "    <tr>\n",
       "      <th>4</th>\n",
       "      <td>44.190936</td>\n",
       "      <td>0.566486</td>\n",
       "      <td>2.222767</td>\n",
       "      <td>1.0</td>\n",
       "      <td>1.0</td>\n",
       "      <td>0.0</td>\n",
       "      <td>1.0</td>\n",
       "      <td>0.0</td>\n",
       "    </tr>\n",
       "  </tbody>\n",
       "</table>\n",
       "</div>"
      ],
      "text/plain": [
       "   distance_from_home  distance_from_last_transaction  \\\n",
       "0           57.877857                        0.311140   \n",
       "1           10.829943                        0.175592   \n",
       "2            5.091079                        0.805153   \n",
       "3            2.247564                        5.600044   \n",
       "4           44.190936                        0.566486   \n",
       "\n",
       "   ratio_to_median_purchase_price  repeat_retailer  used_chip  \\\n",
       "0                        1.945940              1.0        1.0   \n",
       "1                        1.294219              1.0        0.0   \n",
       "2                        0.427715              1.0        0.0   \n",
       "3                        0.362663              1.0        1.0   \n",
       "4                        2.222767              1.0        1.0   \n",
       "\n",
       "   used_pin_number  online_order  fraud  \n",
       "0              0.0           0.0    0.0  \n",
       "1              0.0           0.0    0.0  \n",
       "2              0.0           1.0    0.0  \n",
       "3              0.0           1.0    0.0  \n",
       "4              0.0           1.0    0.0  "
      ]
     },
     "execution_count": 7,
     "metadata": {},
     "output_type": "execute_result"
    }
   ],
   "source": [
    "zf = zipfile.ZipFile('credit-card-fraud.zip') \n",
    "dados = pd.read_csv(zf.open('card_transdata.csv'))\n",
    "dados.head()"
   ]
  },
  {
   "cell_type": "code",
   "execution_count": 8,
   "metadata": {},
   "outputs": [
    {
     "data": {
      "text/plain": [
       "(1000000, 8)"
      ]
     },
     "execution_count": 8,
     "metadata": {},
     "output_type": "execute_result"
    }
   ],
   "source": [
    "dados.shape"
   ]
  },
  {
   "cell_type": "code",
   "execution_count": 10,
   "metadata": {},
   "outputs": [
    {
     "name": "stdout",
     "output_type": "stream",
     "text": [
      "<class 'pandas.core.frame.DataFrame'>\n",
      "RangeIndex: 1000000 entries, 0 to 999999\n",
      "Data columns (total 8 columns):\n",
      " #   Column                          Non-Null Count    Dtype  \n",
      "---  ------                          --------------    -----  \n",
      " 0   distance_from_home              1000000 non-null  float64\n",
      " 1   distance_from_last_transaction  1000000 non-null  float64\n",
      " 2   ratio_to_median_purchase_price  1000000 non-null  float64\n",
      " 3   repeat_retailer                 1000000 non-null  float64\n",
      " 4   used_chip                       1000000 non-null  float64\n",
      " 5   used_pin_number                 1000000 non-null  float64\n",
      " 6   online_order                    1000000 non-null  float64\n",
      " 7   fraud                           1000000 non-null  float64\n",
      "dtypes: float64(8)\n",
      "memory usage: 61.0 MB\n"
     ]
    }
   ],
   "source": [
    "dados.info()"
   ]
  },
  {
   "cell_type": "code",
   "execution_count": 16,
   "metadata": {},
   "outputs": [
    {
     "name": "stdout",
     "output_type": "stream",
     "text": [
      "<class 'pandas.core.frame.DataFrame'>\n",
      "RangeIndex: 1000000 entries, 0 to 999999\n",
      "Data columns (total 8 columns):\n",
      " #   Column                          Non-Null Count    Dtype  \n",
      "---  ------                          --------------    -----  \n",
      " 0   distance_from_home              1000000 non-null  float64\n",
      " 1   distance_from_last_transaction  1000000 non-null  float64\n",
      " 2   ratio_to_median_purchase_price  1000000 non-null  float64\n",
      " 3   repeat_retailer                 1000000 non-null  int64  \n",
      " 4   used_chip                       1000000 non-null  int64  \n",
      " 5   used_pin_number                 1000000 non-null  int64  \n",
      " 6   online_order                    1000000 non-null  int64  \n",
      " 7   fraud                           1000000 non-null  int64  \n",
      "dtypes: float64(3), int64(5)\n",
      "memory usage: 61.0 MB\n"
     ]
    }
   ],
   "source": [
    "dados = Ajusta_Formatos(dados)\n",
    "dados.info()"
   ]
  },
  {
   "cell_type": "markdown",
   "metadata": {},
   "source": [
    "## Divisão da base em treino, validação e teste (~80%, ~10%, ~10%)"
   ]
  },
  {
   "cell_type": "code",
   "execution_count": 19,
   "metadata": {},
   "outputs": [],
   "source": [
    "X = dados.drop(['fraud'], axis=1)\n",
    "y = dados['fraud']"
   ]
  },
  {
   "cell_type": "code",
   "execution_count": 31,
   "metadata": {},
   "outputs": [],
   "source": [
    "X_treino, X_teste, y_treino, y_teste = train_test_split(X, y, test_size=0.1, stratify=y)\n",
    "X_treino, X_val, y_treino, y_val = train_test_split(X_treino, y_treino, test_size=0.13, stratify=y_treino)"
   ]
  },
  {
   "cell_type": "code",
   "execution_count": 32,
   "metadata": {},
   "outputs": [
    {
     "data": {
      "text/plain": [
       "((783000, 7), (117000, 7), (100000, 7))"
      ]
     },
     "execution_count": 32,
     "metadata": {},
     "output_type": "execute_result"
    }
   ],
   "source": [
    "X_treino.shape, X_val.shape, X_teste.shape"
   ]
  },
  {
   "cell_type": "code",
   "execution_count": 35,
   "metadata": {},
   "outputs": [],
   "source": [
    "dados_treino = pd.concat([X_treino, y_treino], axis = 1)\n",
    "dados_val = pd.concat([X_val, y_val], axis = 1)\n",
    "dados_teste = pd.concat([X_teste, y_teste], axis = 1)"
   ]
  },
  {
   "cell_type": "markdown",
   "metadata": {},
   "source": [
    "### Salva as bases \n",
    "\n",
    "Salva as bases separadamente em treino, validação e teste."
   ]
  },
  {
   "cell_type": "code",
   "execution_count": 41,
   "metadata": {},
   "outputs": [],
   "source": [
    "dados_treino.to_parquet('treino.parquet', engine='fastparquet')\n",
    "dados_val.to_parquet('validacao.parquet', engine='fastparquet')\n",
    "dados_teste.to_parquet('teste.parquet', engine='fastparquet')"
   ]
  }
 ],
 "metadata": {
  "kernelspec": {
   "display_name": "vFraude_CC",
   "language": "python",
   "name": "python3"
  },
  "language_info": {
   "codemirror_mode": {
    "name": "ipython",
    "version": 3
   },
   "file_extension": ".py",
   "mimetype": "text/x-python",
   "name": "python",
   "nbconvert_exporter": "python",
   "pygments_lexer": "ipython3",
   "version": "3.12.3"
  }
 },
 "nbformat": 4,
 "nbformat_minor": 2
}
