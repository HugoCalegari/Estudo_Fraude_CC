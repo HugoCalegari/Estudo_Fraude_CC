{
 "cells": [
  {
   "cell_type": "markdown",
   "id": "d1170907",
   "metadata": {},
   "source": [
    "# Terceira seção de modelos\n",
    "\n",
    "Construção dos modelos em bases balanceadas, com as variáveis criadas e originais com IV até 0.5 e que não são correlacionadas (idem as utilizadas na PT2).\n",
    "\n",
    "- https://imbalanced-learn.org/stable/references/generated/imblearn.under_sampling.RandomUnderSampler.html"
   ]
  },
  {
   "cell_type": "markdown",
   "id": "4f4c04c2",
   "metadata": {},
   "source": [
    "# Pacotes e funções"
   ]
  },
  {
   "cell_type": "code",
   "execution_count": 54,
   "id": "b5a23378",
   "metadata": {},
   "outputs": [],
   "source": [
    "# !pip install imbalanced-learn"
   ]
  },
  {
   "cell_type": "code",
   "execution_count": 1,
   "id": "1fd83a89",
   "metadata": {},
   "outputs": [],
   "source": [
    "import pandas as pd \n",
    "import numpy as np\n",
    "import mlflow\n",
    "from mlflow.models import infer_signature\n",
    "from sklearn.ensemble import RandomForestClassifier\n",
    "from imblearn.under_sampling import RandomUnderSampler\n",
    "from sklearn.metrics import f1_score, roc_auc_score, precision_score, recall_score, accuracy_score, average_precision_score, brier_score_loss, confusion_matrix, classification_report, ConfusionMatrixDisplay, precision_recall_curve, log_loss\n",
    "from sklearn.model_selection import cross_val_score, StratifiedKFold\n",
    "from hyperopt import fmin, tpe, Trials, hp\n",
    "from functools import partial\n",
    "import statsmodels.api as sm\n",
    "import matplotlib.pyplot as plt"
   ]
  },
  {
   "cell_type": "markdown",
   "id": "f04f706a",
   "metadata": {},
   "source": [
    "# Bases pré-processadas"
   ]
  },
  {
   "cell_type": "code",
   "execution_count": 2,
   "id": "646d1c9e",
   "metadata": {},
   "outputs": [],
   "source": [
    "treino_full = pd.read_parquet('../3.Pre_processamento/treino_pp.parquet')\n",
    "val_full = pd.read_parquet('../3.Pre_processamento/validacao_pp.parquet')"
   ]
  },
  {
   "cell_type": "code",
   "execution_count": 3,
   "id": "23f01802",
   "metadata": {},
   "outputs": [
    {
     "data": {
      "text/plain": [
       "fraud\n",
       "0    714563\n",
       "1     68437\n",
       "Name: count, dtype: int64"
      ]
     },
     "execution_count": 3,
     "metadata": {},
     "output_type": "execute_result"
    }
   ],
   "source": [
    "treino_full['fraud'].value_counts()"
   ]
  },
  {
   "cell_type": "code",
   "execution_count": 4,
   "id": "3abf429a",
   "metadata": {},
   "outputs": [
    {
     "data": {
      "text/plain": [
       "fraud\n",
       "0    0.912596\n",
       "1    0.087404\n",
       "Name: proportion, dtype: float64"
      ]
     },
     "execution_count": 4,
     "metadata": {},
     "output_type": "execute_result"
    }
   ],
   "source": [
    "treino_full['fraud'].value_counts(normalize=True)"
   ]
  },
  {
   "cell_type": "code",
   "execution_count": 5,
   "id": "6e71aa26",
   "metadata": {},
   "outputs": [],
   "source": [
    "colunas = ['used_pin_number', 'log_DFH_padro', 'log_DFLT_padro', 'RROO', 'used_chip']\n",
    "\n",
    "X_treino = treino_full[colunas]\n",
    "y_treino = treino_full['fraud']\n",
    "\n",
    "X_val = val_full[colunas]\n",
    "y_val = val_full['fraud']"
   ]
  },
  {
   "cell_type": "code",
   "execution_count": 6,
   "id": "eb000a06",
   "metadata": {},
   "outputs": [
    {
     "name": "stdout",
     "output_type": "stream",
     "text": [
      "Fold 0:\n",
      "Treino: index=[     0      1      2 ... 782995 782996 782998]\n",
      "Teste: index=[     4      9     11 ... 782993 782997 782999]\n",
      "Fold 1:\n",
      "Treino: index=[     4      5      9 ... 782997 782998 782999]\n",
      "Teste: index=[     0      1      2 ... 782985 782995 782996]\n",
      "Fold 2:\n",
      "Treino: index=[     0      1      2 ... 782996 782997 782999]\n",
      "Teste: index=[     5     10     12 ... 782990 782994 782998]\n"
     ]
    }
   ],
   "source": [
    "skf = StratifiedKFold(n_splits=3, shuffle=True, random_state=42)\n",
    "\n",
    "for i, (train_index, test_index) in enumerate(skf.split(X_treino, y_treino)):\n",
    "    print(f\"Fold {i}:\")\n",
    "    print(f\"Treino: index={train_index}\")\n",
    "    print(f\"Teste: index={test_index}\")"
   ]
  },
  {
   "cell_type": "code",
   "execution_count": 7,
   "id": "775b17c3",
   "metadata": {},
   "outputs": [],
   "source": [
    "# Definindo o modelo\n",
    "def treinar_modelo(X, y):\n",
    "    \n",
    "    modelo = RandomForestClassifier(random_state=42)\n",
    "    modelo.fit(X, y)\n",
    "\n",
    "    return modelo\n",
    "\n",
    "# Definindo a função de avaliação\n",
    "def avaliar_modelo(modelo, X, y):\n",
    "    y_pred = modelo.predict(X)\n",
    "    y_pred_proba = modelo.predict_proba(X)[:, 1]\n",
    "\n",
    "    f1 = f1_score(y, y_pred)\n",
    "    roc_auc = roc_auc_score(y, y_pred_proba)\n",
    "    precision = precision_score(y, y_pred)\n",
    "    recall = recall_score(y, y_pred)\n",
    "    accuracy = accuracy_score(y, y_pred)\n",
    "    average_precision = average_precision_score(y, y_pred_proba)\n",
    "    brier = brier_score_loss(y, y_pred_proba)\n",
    "    logloss = log_loss(y, y_pred_proba)\n",
    "\n",
    "    return {\n",
    "        'f1': f1,\n",
    "        'roc_auc': roc_auc,\n",
    "        'precision': precision,\n",
    "        'recall': recall,\n",
    "        'accuracy': accuracy,\n",
    "        'average_precision': average_precision,\n",
    "        'brier': brier,\n",
    "        'logloss': logloss\n",
    "    }"
   ]
  },
  {
   "cell_type": "code",
   "execution_count": 8,
   "id": "1faafe37",
   "metadata": {},
   "outputs": [
    {
     "name": "stdout",
     "output_type": "stream",
     "text": [
      "Iniciando o treinamento e avaliação do modelo, SEM balanceamento de classes...\n",
      "Fold 0:\n",
      "Fold 1:\n",
      "Fold 2:\n"
     ]
    }
   ],
   "source": [
    "print(\"Iniciando o treinamento e avaliação do modelo, SEM balanceamento de classes...\")\n",
    "\n",
    "aux = []\n",
    "\n",
    "for i, (train_index, test_index) in enumerate(skf.split(X_treino, y_treino)):\n",
    "\n",
    "    print(f\"Fold {i}:\")\n",
    "\n",
    "    X_train, X_test = X_treino.iloc[train_index], X_treino.iloc[test_index]\n",
    "    y_train, y_test = y_treino.iloc[train_index], y_treino.iloc[test_index]\n",
    "\n",
    "    modelo = treinar_modelo(X_train, y_train)\n",
    "    resultado = avaliar_modelo(modelo, X_test, y_test)\n",
    "    aux.append(resultado)"
   ]
  },
  {
   "cell_type": "code",
   "execution_count": 9,
   "id": "565aa7bf",
   "metadata": {},
   "outputs": [
    {
     "data": {
      "text/plain": [
       "[{'f1': 0.43022607211995934,\n",
       "  'roc_auc': 0.7704703760697316,\n",
       "  'precision': 0.8553163731245923,\n",
       "  'recall': 0.28739260038576186,\n",
       "  'accuracy': 0.9334674329501915,\n",
       "  'average_precision': 0.43403973763227005,\n",
       "  'brier': 0.06344435249042145,\n",
       "  'logloss': 0.42614934152592165},\n",
       " {'f1': 0.4343776460626588,\n",
       "  'roc_auc': 0.7702597862848963,\n",
       "  'precision': 0.8448188497593109,\n",
       "  'recall': 0.29234613361388745,\n",
       "  'accuracy': 0.933455938697318,\n",
       "  'average_precision': 0.4375998573709957,\n",
       "  'brier': 0.06349063563218392,\n",
       "  'logloss': 0.4189416185938012},\n",
       " {'f1': 0.4299586641296503,\n",
       "  'roc_auc': 0.7700048415148718,\n",
       "  'precision': 0.8544790715869083,\n",
       "  'recall': 0.28724849866304303,\n",
       "  'accuracy': 0.9334252873563218,\n",
       "  'average_precision': 0.43457218806478715,\n",
       "  'brier': 0.06352058007662835,\n",
       "  'logloss': 0.4235845192922809}]"
      ]
     },
     "execution_count": 9,
     "metadata": {},
     "output_type": "execute_result"
    }
   ],
   "source": [
    "aux"
   ]
  },
  {
   "cell_type": "code",
   "execution_count": 14,
   "id": "29cffff5",
   "metadata": {},
   "outputs": [
    {
     "name": "stdout",
     "output_type": "stream",
     "text": [
      "Iniciando o treinamento e avaliação do modelo, COM balanceamento de classes...\n",
      "Fold 0:\n",
      "fraud\n",
      "0    0.5\n",
      "1    0.5\n",
      "Name: proportion, dtype: float64\n",
      "fraud\n",
      "0    45625\n",
      "1    45625\n",
      "Name: count, dtype: int64\n",
      "Fold 1:\n",
      "fraud\n",
      "0    0.5\n",
      "1    0.5\n",
      "Name: proportion, dtype: float64\n",
      "fraud\n",
      "0    45625\n",
      "1    45625\n",
      "Name: count, dtype: int64\n",
      "Fold 2:\n",
      "fraud\n",
      "0    0.5\n",
      "1    0.5\n",
      "Name: proportion, dtype: float64\n",
      "fraud\n",
      "0    45624\n",
      "1    45624\n",
      "Name: count, dtype: int64\n"
     ]
    }
   ],
   "source": [
    "print(\"Iniciando o treinamento e avaliação do modelo, COM balanceamento de classes...\")\n",
    "\n",
    "aux_rus = []\n",
    "\n",
    "for i, (train_index, test_index) in enumerate(skf.split(X_treino, y_treino)):\n",
    "\n",
    "    print(f\"Fold {i}:\")\n",
    "\n",
    "    X_train, X_test = X_treino.iloc[train_index], X_treino.iloc[test_index]\n",
    "    y_train, y_test = y_treino.iloc[train_index], y_treino.iloc[test_index]\n",
    "\n",
    "    # Undersampling\n",
    "    rus = RandomUnderSampler(random_state=42, sampling_strategy='not minority')\n",
    "    X_train, y_train = rus.fit_resample(X_train, y_train)\n",
    "\n",
    "    print(y_train.value_counts(normalize=True))\n",
    "    print(y_train.value_counts())\n",
    "\n",
    "    modelo = treinar_modelo(X_train, y_train)\n",
    "    resultado = avaliar_modelo(modelo, X_test, y_test)\n",
    "    aux_rus.append(resultado)"
   ]
  },
  {
   "cell_type": "code",
   "execution_count": 15,
   "id": "2f8d0bde",
   "metadata": {},
   "outputs": [
    {
     "data": {
      "text/plain": [
       "[{'f1': 0.26230215349902114,\n",
       "  'roc_auc': 0.7847124535530825,\n",
       "  'precision': 0.16176229843660472,\n",
       "  'recall': 0.6930562861651762,\n",
       "  'accuracy': 0.65927969348659,\n",
       "  'average_precision': 0.437928970583582,\n",
       "  'brier': 0.19785536436781606,\n",
       "  'logloss': 0.548058886640538},\n",
       " {'f1': 0.26081094412838307,\n",
       "  'roc_auc': 0.7834335017012143,\n",
       "  'precision': 0.16050756901157615,\n",
       "  'recall': 0.6953357881816588,\n",
       "  'accuracy': 0.6555095785440613,\n",
       "  'average_precision': 0.4381461583338535,\n",
       "  'brier': 0.19917187701149425,\n",
       "  'logloss': 0.5483706898848205},\n",
       " {'f1': 0.2607796810395747,\n",
       "  'roc_auc': 0.7824662295985738,\n",
       "  'precision': 0.160410968581896,\n",
       "  'recall': 0.6967080173585236,\n",
       "  'accuracy': 0.6547586206896552,\n",
       "  'average_precision': 0.433611749644622,\n",
       "  'brier': 0.19991629540229888,\n",
       "  'logloss': 0.5521478064515876}]"
      ]
     },
     "execution_count": 15,
     "metadata": {},
     "output_type": "execute_result"
    }
   ],
   "source": [
    "aux_rus"
   ]
  }
 ],
 "metadata": {
  "kernelspec": {
   "display_name": "vFraude_CC",
   "language": "python",
   "name": "python3"
  },
  "language_info": {
   "codemirror_mode": {
    "name": "ipython",
    "version": 3
   },
   "file_extension": ".py",
   "mimetype": "text/x-python",
   "name": "python",
   "nbconvert_exporter": "python",
   "pygments_lexer": "ipython3",
   "version": "3.12.3"
  }
 },
 "nbformat": 4,
 "nbformat_minor": 5
}
